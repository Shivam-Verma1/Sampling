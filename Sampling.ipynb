{
  "cells": [
    {
      "cell_type": "markdown",
      "metadata": {
        "id": "view-in-github",
        "colab_type": "text"
      },
      "source": [
        "<a href=\"https://colab.research.google.com/github/Shivam-Verma1/Sampling/blob/main/Sampling.ipynb\" target=\"_parent\"><img src=\"https://colab.research.google.com/assets/colab-badge.svg\" alt=\"Open In Colab\"/></a>"
      ]
    },
    {
      "cell_type": "code",
      "execution_count": 3,
      "metadata": {
        "id": "M_slJlTByNLD"
      },
      "outputs": [],
      "source": [
        "import pandas as pd\n",
        "import numpy as np\n",
        "import seaborn as sns\n",
        "import matplotlib.pyplot as plt\n",
        "import scipy.stats\n",
        "\n",
        "\n",
        "df = pd.read_csv('/content/sample_data/Creditcard_data.csv')"
      ]
    },
    {
      "cell_type": "markdown",
      "source": [
        "# New Section"
      ],
      "metadata": {
        "id": "WMugx1llyYNH"
      }
    },
    {
      "cell_type": "code",
      "execution_count": 4,
      "metadata": {
        "id": "Jn8wnGhqyNLF"
      },
      "outputs": [],
      "source": [
        "def class_distribution(y): #Simply counting the number of samples in each class\n",
        "    counts = y.value_counts()\n",
        "    distribution = counts/len(y)\n",
        "    return distribution\n",
        "\n",
        "def plot_class_distribution(y): #Bar chart to visualize the distribution of classes\n",
        "    plt.figure(figsize=(8,6))\n",
        "    perct = y.value_counts(normalize = True)*100\n",
        "\n",
        "    sns.barplot(x = perct.index, y = perct.values)\n",
        "    plt.title('Class Distr. (percentage)')\n",
        "    plt.ylabel('Percentage')\n",
        "    plt.xlabel('Class')\n",
        "    plt.show()\n",
        "\n",
        "def imbalance_ratio(y): #Finding the imbalance ratio\n",
        "    counts = y.value_counts()\n",
        "    ratio = counts.max()/counts.min()\n",
        "    return ratio\n",
        "\n",
        "def gini_coefficient(y):#Finds the gini coefficient, a measure of statistical dispersion\n",
        "    counts = y.value_counts()\n",
        "    p = counts/len(y)\n",
        "    gini = 1-sum(p**2)\n",
        "    return gini"
      ]
    },
    {
      "cell_type": "code",
      "execution_count": 5,
      "metadata": {
        "id": "iExykKdZyNLF",
        "outputId": "cf7e7ffb-8204-44a0-bd76-15cfdd254610",
        "colab": {
          "base_uri": "https://localhost:8080/"
        }
      },
      "outputs": [
        {
          "output_type": "stream",
          "name": "stdout",
          "text": [
            "0      0\n",
            "1      1\n",
            "2      0\n",
            "3      0\n",
            "4      0\n",
            "      ..\n",
            "767    0\n",
            "768    0\n",
            "769    0\n",
            "770    0\n",
            "771    0\n",
            "Name: Class, Length: 772, dtype: int64\n"
          ]
        }
      ],
      "source": [
        "y = df['Class']\n",
        "print(y)"
      ]
    },
    {
      "cell_type": "code",
      "execution_count": 6,
      "metadata": {
        "id": "FK0cbmPMyNLG",
        "outputId": "382c47f2-1b3c-4264-926b-42a1d34ef6df",
        "colab": {
          "base_uri": "https://localhost:8080/"
        }
      },
      "outputs": [
        {
          "output_type": "stream",
          "name": "stdout",
          "text": [
            "Class Distribution: \n",
            "0    0.988342\n",
            "1    0.011658\n",
            "Name: Class, dtype: float64\n"
          ]
        }
      ],
      "source": [
        "class_dist = class_distribution(y)\n",
        "print(\"Class Distribution: \")\n",
        "print(class_dist)"
      ]
    },
    {
      "cell_type": "code",
      "execution_count": 7,
      "metadata": {
        "id": "SGEa7jvuyNLG",
        "outputId": "c8967407-8ee7-44aa-f5df-a556e65fb3f1",
        "colab": {
          "base_uri": "https://localhost:8080/",
          "height": 564
        }
      },
      "outputs": [
        {
          "output_type": "display_data",
          "data": {
            "text/plain": [
              "<Figure size 800x600 with 1 Axes>"
            ],
            "image/png": "[encoded data removed]"
          },
          "metadata": {}
        }
      ],
      "source": [
        "\n",
        "plot_class_distribution(y)"
      ]
    },
    {
      "cell_type": "code",
      "execution_count": 8,
      "metadata": {
        "id": "M8TdYHEZyNLG",
        "outputId": "20773adc-906c-4594-b71e-51552bb135a0",
        "colab": {
          "base_uri": "https://localhost:8080/"
        }
      },
      "outputs": [
        {
          "output_type": "stream",
          "name": "stdout",
          "text": [
            "Imbalance Ratio: 84.77777777777777\n",
            "Gini Coefficient: 0.02304424279846451\n"
          ]
        }
      ],
      "source": [
        "imbal_ratio = imbalance_ratio(y)\n",
        "print(f\"Imbalance Ratio: {imbal_ratio}\")\n",
        "\n",
        "gini_coeff = gini_coefficient(y)\n",
        "print(f'Gini Coefficient: {gini_coeff}')"
      ]
    },
    {
      "cell_type": "markdown",
      "metadata": {
        "id": "pJP5OeINyNLG"
      },
      "source": [
        "Inference:\n",
        "Clearly the data is too much imbalanced and we wont be able to train a model properly on this\n",
        "Following cells we will implement our sampling techniques"
      ]
    },
    {
      "cell_type": "code",
      "execution_count": 9,
      "metadata": {
        "id": "D4HZeemLyNLH"
      },
      "outputs": [],
      "source": [
        "from imblearn.under_sampling import RandomUnderSampler, TomekLinks, NearMiss\n",
        "from imblearn.over_sampling import RandomOverSampler, SMOTE\n",
        "from imblearn.combine import SMOTETomek, SMOTEENN"
      ]
    },
    {
      "cell_type": "code",
      "source": [
        "!pip install catboost"
      ],
      "metadata": {
        "colab": {
          "base_uri": "https://localhost:8080/"
        },
        "id": "TxNAhsGUy8KA",
        "outputId": "5413ee2c-6c28-4548-90a5-018d14ed9ab5"
      },
      "execution_count": 11,
      "outputs": [
        {
          "output_type": "stream",
          "name": "stdout",
          "text": [
            "Collecting catboost\n",
            "  Downloading catboost-1.2.2-cp310-cp310-manylinux2014_x86_64.whl (98.7 MB)\n",
            "\u001b[2K     \u001b[90m━━━━━━━━━━━━━━━━━━━━━━━━━━━━━━━━━━━━━━━━\u001b[0m \u001b[32m98.7/98.7 MB\u001b[0m \u001b[31m9.2 MB/s\u001b[0m eta \u001b[36m0:00:00\u001b[0m\n",
            "\u001b[?25hRequirement already satisfied: graphviz in /usr/local/lib/python3.10/dist-packages (from catboost) (0.20.1)\n",
            "Requirement already satisfied: matplotlib in /usr/local/lib/python3.10/dist-packages (from catboost) (3.7.1)\n",
            "Requirement already satisfied: numpy>=1.16.0 in /usr/local/lib/python3.10/dist-packages (from catboost) (1.23.5)\n",
            "Requirement already satisfied: pandas>=0.24 in /usr/local/lib/python3.10/dist-packages (from catboost) (1.5.3)\n",
            "Requirement already satisfied: scipy in /usr/local/lib/python3.10/dist-packages (from catboost) (1.11.4)\n",
            "Requirement already satisfied: plotly in /usr/local/lib/python3.10/dist-packages (from catboost) (5.15.0)\n",
            "Requirement already satisfied: six in /usr/local/lib/python3.10/dist-packages (from catboost) (1.16.0)\n",
            "Requirement already satisfied: python-dateutil>=2.8.1 in /usr/local/lib/python3.10/dist-packages (from pandas>=0.24->catboost) (2.8.2)\n",
            "Requirement already satisfied: pytz>=2020.1 in /usr/local/lib/python3.10/dist-packages (from pandas>=0.24->catboost) (2023.3.post1)\n",
            "Requirement already satisfied: contourpy>=1.0.1 in /usr/local/lib/python3.10/dist-packages (from matplotlib->catboost) (1.2.0)\n",
            "Requirement already satisfied: cycler>=0.10 in /usr/local/lib/python3.10/dist-packages (from matplotlib->catboost) (0.12.1)\n",
            "Requirement already satisfied: fonttools>=4.22.0 in /usr/local/lib/python3.10/dist-packages (from matplotlib->catboost) (4.47.2)\n",
            "Requirement already satisfied: kiwisolver>=1.0.1 in /usr/local/lib/python3.10/dist-packages (from matplotlib->catboost) (1.4.5)\n",
            "Requirement already satisfied: packaging>=20.0 in /usr/local/lib/python3.10/dist-packages (from matplotlib->catboost) (23.2)\n",
            "Requirement already satisfied: pillow>=6.2.0 in /usr/local/lib/python3.10/dist-packages (from matplotlib->catboost) (9.4.0)\n",
            "Requirement already satisfied: pyparsing>=2.3.1 in /usr/local/lib/python3.10/dist-packages (from matplotlib->catboost) (3.1.1)\n",
            "Requirement already satisfied: tenacity>=6.2.0 in /usr/local/lib/python3.10/dist-packages (from plotly->catboost) (8.2.3)\n",
            "Installing collected packages: catboost\n",
            "Successfully installed catboost-1.2.2\n"
          ]
        }
      ]
    },
    {
      "cell_type": "code",
      "execution_count": 13,
      "metadata": {
        "id": "bN-1rIRyyNLH"
      },
      "outputs": [],
      "source": [
        "from catboost import CatBoostClassifier\n",
        "from xgboost import XGBClassifier\n",
        "from lightgbm import LGBMClassifier\n",
        "from sklearn.svm import SVC\n",
        "from sklearn.ensemble import RandomForestClassifier\n",
        "from sklearn.model_selection import train_test_split, cross_val_score\n",
        "from sklearn.metrics import accuracy_score, precision_score, recall_score, f1_score\n",
        "\n",
        "X = df.drop(columns = 'Class')\n",
        "y = df['Class']\n",
        "\n",
        "X_train, X_test, y_train, y_test = train_test_split(X, y, test_size = 0.2, random_state = 42)"
      ]
    },
    {
      "cell_type": "code",
      "execution_count": 24,
      "metadata": {
        "id": "HosuJkNqyNLI"
      },
      "outputs": [],
      "source": [
        "models = {\n",
        "   'CatBoost': CatBoostClassifier(random_state=42, verbose=False),\n",
        "    'XGBoost': XGBClassifier(random_state=42, verbosity=0),\n",
        "    'LightGBM': LGBMClassifier(random_state=42),\n",
        "    'SVC': SVC(random_state=42),\n",
        "    'RandomForest': RandomForestClassifier(random_state=42)\n",
        "}\n",
        "\n",
        "samplers = {\n",
        "    'RandomOverSampler': RandomOverSampler(sampling_strategy='auto', random_state=42),\n",
        "    'SMOTE': SMOTE(sampling_strategy='auto', random_state=42),\n",
        "    'RandomUnderSampler': RandomUnderSampler(sampling_strategy='auto', random_state=42),\n",
        "    'NearMiss': NearMiss(sampling_strategy='auto', version=1),\n",
        "    'TomekLinks': TomekLinks(sampling_strategy='auto')\n",
        "}"
      ]
    },
    {
      "cell_type": "code",
      "source": [
        "%%capture\n",
        "results_table = pd.DataFrame(columns = ['Model', 'Sampler', 'Accuracy'])\n",
        "\n",
        "for model_name, model in models.items():\n",
        "    for sampler_name, sampler in samplers.items():\n",
        "\n",
        "        X_resampled, y_resampled = sampler.fit_resample(X_train, y_train)\n",
        "        model.fit(X_resampled, y_resampled)\n",
        "\n",
        "        y_pred = model.predict(X_test)\n",
        "\n",
        "        accuracy = accuracy_score(y_test, y_pred)\n",
        "        precision = precision_score(y_test, y_pred)\n",
        "        recall = recall_score(y_test, y_pred)\n",
        "        f1 = f1_score(y_test, y_pred)\n",
        "\n",
        "        results_table = results_table.append({\n",
        "            'Model':model_name,\n",
        "            'Sampler':sampler_name,\n",
        "            'Accuracy':accuracy,\n",
        "        }, ignore_index = True)"
      ],
      "metadata": {
        "id": "rA4koLenzHKJ"
      },
      "execution_count": 25,
      "outputs": []
    },
    {
      "cell_type": "code",
      "source": [
        "print(results_table)"
      ],
      "metadata": {
        "colab": {
          "base_uri": "https://localhost:8080/"
        },
        "id": "m-2_aQCezI48",
        "outputId": "fe21a8c0-eec6-4a24-b7c0-ca451066a076"
      },
      "execution_count": 26,
      "outputs": [
        {
          "output_type": "stream",
          "name": "stdout",
          "text": [
            "           Model             Sampler  Accuracy\n",
            "0       CatBoost   RandomOverSampler  0.993548\n",
            "1       CatBoost               SMOTE  0.993548\n",
            "2       CatBoost  RandomUnderSampler  0.741935\n",
            "3       CatBoost            NearMiss  0.341935\n",
            "4       CatBoost          TomekLinks  0.993548\n",
            "5        XGBoost   RandomOverSampler  0.993548\n",
            "6        XGBoost               SMOTE  0.980645\n",
            "7        XGBoost  RandomUnderSampler  0.600000\n",
            "8        XGBoost            NearMiss  0.096774\n",
            "9        XGBoost          TomekLinks  0.993548\n",
            "10      LightGBM   RandomOverSampler  0.993548\n",
            "11      LightGBM               SMOTE  0.993548\n",
            "12      LightGBM  RandomUnderSampler  0.993548\n",
            "13      LightGBM            NearMiss  0.993548\n",
            "14      LightGBM          TomekLinks  0.993548\n",
            "15           SVC   RandomOverSampler  0.696774\n",
            "16           SVC               SMOTE  0.670968\n",
            "17           SVC  RandomUnderSampler  0.625806\n",
            "18           SVC            NearMiss  0.348387\n",
            "19           SVC          TomekLinks  0.993548\n",
            "20  RandomForest   RandomOverSampler  0.993548\n",
            "21  RandomForest               SMOTE  0.993548\n",
            "22  RandomForest  RandomUnderSampler  0.709677\n",
            "23  RandomForest            NearMiss  0.393548\n",
            "24  RandomForest          TomekLinks  0.993548\n"
          ]
        }
      ]
    },
    {
      "cell_type": "code",
      "source": [],
      "metadata": {
        "id": "BkZ6iyl_zU4u"
      },
      "execution_count": null,
      "outputs": []
    }
  ],
  "metadata": {
    "kernelspec": {
      "display_name": "Python 3",
      "language": "python",
      "name": "python3"
    },
    "language_info": {
      "codemirror_mode": {
        "name": "ipython",
        "version": 3
      },
      "file_extension": ".py",
      "mimetype": "text/x-python",
      "name": "python",
      "nbconvert_exporter": "python",
      "pygments_lexer": "ipython3",
      "version": "3.12.0"
    },
    "colab": {
      "provenance": [],
      "include_colab_link": true
    }
  },
  "nbformat": 4,
  "nbformat_minor": 0
}